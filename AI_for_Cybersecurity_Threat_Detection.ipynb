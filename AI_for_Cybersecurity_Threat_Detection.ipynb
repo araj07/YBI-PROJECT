{
  "nbformat": 4,
  "nbformat_minor": 0,
  "metadata": {
    "colab": {
      "provenance": [],
      "authorship_tag": "ABX9TyN4mY4sPzI//LqfZMiL3Vk1",
      "include_colab_link": true
    },
    "kernelspec": {
      "name": "python3",
      "display_name": "Python 3"
    },
    "language_info": {
      "name": "python"
    }
  },
  "cells": [
    {
      "cell_type": "markdown",
      "metadata": {
        "id": "view-in-github",
        "colab_type": "text"
      },
      "source": [
        "<a href=\"https://colab.research.google.com/github/araj07/YBI-PROJECT/blob/main/AI_for_Cybersecurity_Threat_Detection.ipynb\" target=\"_parent\"><img src=\"https://colab.research.google.com/assets/colab-badge.svg\" alt=\"Open In Colab\"/></a>"
      ]
    },
    {
      "cell_type": "markdown",
      "source": [
        "Creating a Python model for Cybersecurity Threat Detection using AI involves multiple steps depending on the specific type of threats (e.g., malware, phishing, intrusion detection, etc.). Here, I’ll give you a basic framework using machine learning (Random Forest) to detect network intrusions from a commonly used dataset: KDD Cup 99 / NSL-KDD.\n",
        "\n",
        "✅ Step-by-Step Breakdown:\n",
        "\n",
        "1.Dataset: We’ll use NSL-KDD, a refined version of KDD’99, suitable for anomaly detection in network traffic.\n",
        "\n",
        "2.Model: We'll use a Random Forest Classifier for simplicity and interpretability.\n",
        "\n",
        "3.Features: Preprocessing includes encoding, scaling, and splitting."
      ],
      "metadata": {
        "id": "BgkpRmIaSas0"
      }
    },
    {
      "cell_type": "markdown",
      "source": [
        "**Python Code: AI for Cybersecurity Threat Detection**"
      ],
      "metadata": {
        "id": "etsKOh3cSokH"
      }
    },
    {
      "cell_type": "code",
      "source": [
        "import pandas as pd\n",
        "import numpy as np\n",
        "from sklearn.ensemble import RandomForestClassifier\n",
        "from sklearn.preprocessing import LabelEncoder, StandardScaler\n",
        "from sklearn.model_selection import train_test_split\n",
        "from sklearn.metrics import classification_report, confusion_matrix\n",
        "\n",
        "# Step 1: Load Dataset\n",
        "# Download 'KDDTrain+.txt' from NSL-KDD and put path below\n",
        "data_path = \"KDDTrain+.txt\"\n",
        "column_names_path = \"KDDFeatureNames.txt\"\n",
        "\n",
        "# Load column names\n",
        "with open(column_names_path, 'r') as f:\n",
        "    column_names = [line.split(\":\")[0] for line in f.readlines()]\n",
        "column_names.append('target')\n",
        "\n",
        "# Load dataset\n",
        "df = pd.read_csv(data_path, names=column_names)\n",
        "\n",
        "# Step 2: Encode labels\n",
        "df['target'] = df['target'].apply(lambda x: 'normal' if x == 'normal' else 'threat')\n",
        "\n",
        "# Step 3: Encode categorical features\n",
        "cat_cols = ['protocol_type', 'service', 'flag']\n",
        "df[cat_cols] = df[cat_cols].apply(LabelEncoder().fit_transform)\n",
        "\n",
        "# Step 4: Feature/Target split\n",
        "X = df.drop('target', axis=1)\n",
        "y = df['target']\n",
        "y = LabelEncoder().fit_transform(y)\n",
        "\n",
        "# Step 5: Scaling\n",
        "scaler = StandardScaler()\n",
        "X_scaled = scaler.fit_transform(X)\n",
        "\n",
        "# Step 6: Train/Test Split\n",
        "X_train, X_test, y_train, y_test = train_test_split(X_scaled, y, test_size=0.3, random_state=42)\n",
        "\n",
        "# Step 7: Model Training\n",
        "model = RandomForestClassifier(n_estimators=100, random_state=42)\n",
        "model.fit(X_train, y_train)\n",
        "\n",
        "# Step 8: Evaluation\n",
        "y_pred = model.predict(X_test)\n",
        "print(\"Classification Report:\\n\", classification_report(y_test, y_pred))\n",
        "print(\"Confusion Matrix:\\n\", confusion_matrix(y_test, y_pred))"
      ],
      "metadata": {
        "id": "6wATKBSCSqQN"
      },
      "execution_count": null,
      "outputs": []
    },
    {
      "cell_type": "markdown",
      "source": [
        "**Dataset Links (You’ll need to download manually):** NSL-KDD Dataset: https://www.unb.ca/cic/datasets/nsl.html\n",
        "\n",
        "Download these files:\n",
        "\n",
        "KDDTrain+.txt\n",
        "\n",
        "KDDTest+.txt\n",
        "\n",
        "KDDFeatureNames.txt\n",
        "\n",
        "**Extensions You Can Add:** Use deep learning (e.g., LSTM for time-based analysis).\n",
        "\n",
        "Use unsupervised learning for anomaly detection (Isolation Forest, AutoEncoders).\n",
        "\n",
        "Integrate with real-time systems using tools like Kafka or PyShark.\n",
        "\n",
        "Build a dashboard with Streamlit or Dash."
      ],
      "metadata": {
        "id": "Q43z51vvTfai"
      }
    }
  ]
}